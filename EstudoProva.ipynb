{
 "cells": [
  {
   "cell_type": "code",
   "execution_count": 1,
   "id": "9ca221f3-2d30-4829-8f83-ba4f0ff61f58",
   "metadata": {},
   "outputs": [],
   "source": [
    "import pandas as pd\n",
    "import numpy as np\n",
    "import seaborn as sns\n",
    "import matplotlib.pyplot as plt"
   ]
  },
  {
   "cell_type": "markdown",
   "id": "17224ad4-b7cf-42d4-8089-bed222dbd628",
   "metadata": {},
   "source": [
    "#### Importação bibliotecas"
   ]
  },
  {
   "cell_type": "code",
   "execution_count": 21,
   "id": "ac63d7d1-0e3b-4ee0-90cb-2d0ffc5711bf",
   "metadata": {},
   "outputs": [
    {
     "name": "stdout",
     "output_type": "stream",
     "text": [
      "   id               type     doc  Unnamed: 3  relatives          civil_state  \\\n",
      "0  39          State-gov   77516   Bachelors         13        Never-married   \n",
      "1  50   Self-emp-not-inc   83311   Bachelors         13   Married-civ-spouse   \n",
      "2  38            Private  215646     HS-grad          9             Divorced   \n",
      "3  53            Private  234721        11th          7   Married-civ-spouse   \n",
      "4  28            Private  338409   Bachelors         13   Married-civ-spouse   \n",
      "\n",
      "           profession   color   gender  age         country networth  \n",
      "0        Adm-clerical   White     Male   40   United-States    <=50K  \n",
      "1     Exec-managerial   White     Male   13   United-States    <=50K  \n",
      "2   Handlers-cleaners   White     Male   40   United-States    <=50K  \n",
      "3   Handlers-cleaners   Black     Male   40   United-States    <=50K  \n",
      "4      Prof-specialty   Black   Female   40            Cuba    <=50K  \n"
     ]
    }
   ],
   "source": [
    "caminho_arquivo = 'C:/Users/Henri/Desktop/adult.csv'\n",
    "df = pd.read_csv(caminho_arquivo, encoding='utf-8', sep=';')\n",
    "\n",
    "print(df.head())"
   ]
  },
  {
   "cell_type": "markdown",
   "id": "151b3294-b54f-425a-bcfb-ea3ff158d90c",
   "metadata": {},
   "source": [
    "#### Carregamento base e apresentação"
   ]
  },
  {
   "cell_type": "code",
   "execution_count": 22,
   "id": "c9f522d2-a546-4b95-a510-e28a90f5284b",
   "metadata": {},
   "outputs": [
    {
     "name": "stdout",
     "output_type": "stream",
     "text": [
      "                 id           doc     relatives           age\n",
      "count  32561.000000  3.256100e+04  32561.000000  32561.000000\n",
      "mean      38.581647  1.897784e+05     10.080679     40.437456\n",
      "std       13.640433  1.055500e+05      2.572720     12.347429\n",
      "min       17.000000  1.228500e+04      1.000000      1.000000\n",
      "25%       28.000000  1.178270e+05      9.000000     40.000000\n",
      "50%       37.000000  1.783560e+05     10.000000     40.000000\n",
      "75%       48.000000  2.370510e+05     12.000000     45.000000\n",
      "max       90.000000  1.484705e+06     16.000000     99.000000\n"
     ]
    }
   ],
   "source": [
    "estatisticas = df.describe()\n",
    "print(estatisticas)"
   ]
  },
  {
   "cell_type": "markdown",
   "id": "4981b3d8-6f45-43bd-8c6c-240e18bf05e5",
   "metadata": {},
   "source": [
    "#### Describe acima"
   ]
  },
  {
   "cell_type": "code",
   "execution_count": 23,
   "id": "6606570a-ba53-4c9f-9342-d7952ea0af5f",
   "metadata": {},
   "outputs": [
    {
     "name": "stdout",
     "output_type": "stream",
     "text": [
      "Index(['id', 'type', 'doc', 'Unnamed: 3', 'relatives', 'civil_state',\n",
      "       'profession', 'color', 'gender', 'age', 'country', 'networth'],\n",
      "      dtype='object')\n"
     ]
    }
   ],
   "source": [
    "print(df.columns)"
   ]
  },
  {
   "cell_type": "markdown",
   "id": "edc33dba-5a54-46d4-be76-f88a9da8c45d",
   "metadata": {},
   "source": [
    "#### Print colunas"
   ]
  },
  {
   "cell_type": "code",
   "execution_count": 27,
   "id": "fc6c9fe2-31f5-46de-ba03-292117dc787b",
   "metadata": {},
   "outputs": [
    {
     "name": "stdout",
     "output_type": "stream",
     "text": [
      "age\n",
      "40    15217\n",
      "50     2819\n",
      "45     1824\n",
      "60     1475\n",
      "35     1297\n",
      "      ...  \n",
      "82        1\n",
      "92        1\n",
      "87        1\n",
      "74        1\n",
      "94        1\n",
      "Name: count, Length: 94, dtype: int64\n"
     ]
    }
   ],
   "source": [
    "distrib = df['age'].value_counts()\n",
    "print(distrib)"
   ]
  },
  {
   "cell_type": "markdown",
   "id": "a65e55ac-c4e4-47ee-9d44-252f74a4741e",
   "metadata": {},
   "source": [
    "#### Análise univariada"
   ]
  },
  {
   "cell_type": "code",
   "execution_count": 28,
   "id": "3bae0384-8e40-4be7-958e-0f905f44b8b6",
   "metadata": {},
   "outputs": [
    {
     "data": {
      "image/png": "[encoded data removed]",
      "text/plain": [
       "<Figure size 640x480 with 1 Axes>"
      ]
     },
     "metadata": {},
     "output_type": "display_data"
    },
    {
     "data": {
      "image/png": "[encoded data removed]",
      "text/plain": [
       "<Figure size 640x480 with 1 Axes>"
      ]
     },
     "metadata": {},
     "output_type": "display_data"
    }
   ],
   "source": [
    "import seaborn as sns\n",
    "import matplotlib.pyplot as plt\n",
    "\n",
    "# Boxplot\n",
    "sns.boxplot(x=df['age'])\n",
    "plt.show()\n",
    "\n",
    "# Histograma\n",
    "df['age'].hist()\n",
    "plt.show()"
   ]
  },
  {
   "cell_type": "markdown",
   "id": "f0cffd98-79e7-4d8c-b927-dcd8c0824cb3",
   "metadata": {},
   "source": [
    "#### Boxplot e histograma"
   ]
  },
  {
   "cell_type": "code",
   "execution_count": 29,
   "id": "f59c9a73-7b44-4501-964f-27fb6157822f",
   "metadata": {},
   "outputs": [],
   "source": [
    "# Tratamento de valores faltantes\n",
    "df = df.dropna()  # Ou df.fillna(valor)\n",
    "\n",
    "# Remoção de outliers (exemplo usando IQR)\n",
    "Q1 = df['age'].quantile(0.25)\n",
    "Q3 = df['age'].quantile(0.75)\n",
    "IQR = Q3 - Q1\n",
    "df = df[~((df['age'] < (Q1 - 1.5 * IQR)) | (df['age'] > (Q3 + 1.5 * IQR)))]"
   ]
  },
  {
   "cell_type": "markdown",
   "id": "abaa22a2-9213-4e58-9003-624698e36513",
   "metadata": {},
   "source": [
    "#### Removendo outliers"
   ]
  },
  {
   "cell_type": "code",
   "execution_count": 30,
   "id": "eac77418-5b2f-477b-a0f0-bdae63764120",
   "metadata": {},
   "outputs": [
    {
     "name": "stdout",
     "output_type": "stream",
     "text": [
      "Index(['id', 'type', 'doc', 'Unnamed: 3', 'relatives', 'civil_state',\n",
      "       'profession', 'color', 'gender', 'age', 'country', 'networth'],\n",
      "      dtype='object')\n"
     ]
    }
   ],
   "source": [
    "print(df.columns)"
   ]
  },
  {
   "cell_type": "code",
   "execution_count": null,
   "id": "85d19d7d-6947-4df2-8972-7b5730de282c",
   "metadata": {},
   "outputs": [],
   "source": [
    "df_cleaned = df.dropna()\n",
    "\n",
    "print(df_cleaned)"
   ]
  },
  {
   "cell_type": "markdown",
   "id": "9bf516e3-b913-4d42-872a-d4c0faa4390c",
   "metadata": {},
   "source": [
    "#### Dropna para tirar valores ausentes"
   ]
  },
  {
   "cell_type": "code",
   "execution_count": 32,
   "id": "a5eb0aa5-569a-4df9-a093-40261ff90442",
   "metadata": {},
   "outputs": [],
   "source": [
    "from sklearn.preprocessing import StandardScaler\n",
    "\n",
    "scaler = StandardScaler()\n",
    "df_padronizado = scaler.fit_transform(df[['age', 'relatives']])"
   ]
  },
  {
   "cell_type": "code",
   "execution_count": 33,
   "id": "6065e354-732d-4466-a8f5-63090e288cac",
   "metadata": {},
   "outputs": [],
   "source": [
    "from sklearn.preprocessing import MinMaxScaler\n",
    "\n",
    "scaler = MinMaxScaler()\n",
    "df_normalizado = scaler.fit_transform(df_padronizado)"
   ]
  },
  {
   "cell_type": "code",
   "execution_count": 34,
   "id": "358cda6d-4f94-4ab2-8c80-ee6069bb7a5c",
   "metadata": {},
   "outputs": [
    {
     "name": "stdout",
     "output_type": "stream",
     "text": [
      "[[-0.38984948  1.13850894]\n",
      " [-0.38984948 -0.43515896]\n",
      " [-0.38984948 -1.22199292]\n",
      " ...\n",
      " [-0.38984948 -0.43515896]\n",
      " [-0.38984948 -0.43515896]\n",
      " [-0.38984948 -0.43515896]]\n"
     ]
    }
   ],
   "source": [
    "print(df_padronizado)"
   ]
  },
  {
   "cell_type": "markdown",
   "id": "6c135ccb-6d2f-4c49-aedd-dfaa8acc814d",
   "metadata": {},
   "source": [
    "#### Normalização e padronização"
   ]
  },
  {
   "cell_type": "code",
   "execution_count": 40,
   "id": "ca99fa7e-56bc-42b3-9755-bcb9d2e9a529",
   "metadata": {},
   "outputs": [],
   "source": [
    "from sklearn.model_selection import train_test_split\n",
    "\n",
    "# Suponha que df seja o seu DataFrame e 'target' seja a coluna alvo\n",
    "X = df.drop('age', axis=1)  # Características\n",
    "y = df['age']               # Alvo\n",
    "\n",
    "# Dividir em treino e teste (80% treino, 20% teste)\n",
    "X_train, X_test, y_train, y_test = train_test_split(X, y, test_size=0.2, random_state=42)"
   ]
  },
  {
   "cell_type": "markdown",
   "id": "7842e666-b4af-4a25-8ac5-6d67414a2365",
   "metadata": {},
   "source": [
    "#### Divisão de dados para treino"
   ]
  },
  {
   "cell_type": "code",
   "execution_count": 41,
   "id": "ba5ab5eb-64ba-42a3-8af1-40338bfd0012",
   "metadata": {},
   "outputs": [],
   "source": [
    "from sklearn.preprocessing import LabelEncoder\n",
    "\n",
    "# Criar um dicionário para armazenar os codificadores\n",
    "label_encoders = {}\n",
    "\n",
    "# Percorrer as colunas categóricas e codificá-las\n",
    "for column in X_train.select_dtypes(include=['object']).columns:\n",
    "    le = LabelEncoder()\n",
    "    X_train[column] = le.fit_transform(X_train[column])\n",
    "    X_test[column] = le.transform(X_test[column])  # Transformar o conjunto de teste usando o mesmo codificador\n",
    "    label_encoders[column] = le"
   ]
  },
  {
   "cell_type": "markdown",
   "id": "e8e41ebf-3047-421e-a904-3b78671df06a",
   "metadata": {},
   "source": [
    "#### Codificação de variáveis categóricas"
   ]
  },
  {
   "cell_type": "code",
   "execution_count": 42,
   "id": "9a012bf3-778c-4821-aa6a-830a708a206d",
   "metadata": {},
   "outputs": [],
   "source": [
    "from sklearn.preprocessing import OneHotEncoder\n",
    "from sklearn.compose import ColumnTransformer\n",
    "from sklearn.pipeline import Pipeline\n",
    "\n",
    "# Definir as colunas categóricas\n",
    "categorical_cols = X_train.select_dtypes(include=['object']).columns\n",
    "\n",
    "# Configurar a transformação para colunas categóricas\n",
    "preprocessor = ColumnTransformer(\n",
    "    transformers=[\n",
    "        ('cat', OneHotEncoder(handle_unknown='ignore'), categorical_cols)\n",
    "    ],\n",
    "    remainder='passthrough'  # Manter as colunas numéricas inalteradas\n",
    ")\n",
    "\n",
    "# Aplicar a transformação\n",
    "X_train = preprocessor.fit_transform(X_train)\n",
    "X_test = preprocessor.transform(X_test)"
   ]
  },
  {
   "cell_type": "markdown",
   "id": "ec2c06c9-a551-4150-9c7b-5df43ec82f9e",
   "metadata": {},
   "source": [
    "#### Preparação de dados para o KNN"
   ]
  },
  {
   "cell_type": "code",
   "execution_count": 44,
   "id": "b56bdf8a-985e-471d-9e7d-d4a77781d136",
   "metadata": {},
   "outputs": [],
   "source": [
    "from sklearn.neighbors import KNeighborsClassifier\n",
    "\n",
    "knn = KNeighborsClassifier(n_neighbors=5)\n",
    "knn.fit(X_train, y_train)\n",
    "\n",
    "# Prever com o modelo treinado\n",
    "y_pred = knn.predict(X_test)"
   ]
  },
  {
   "cell_type": "markdown",
   "id": "9eb9dd83-881a-400b-ba63-ea1cab26cd97",
   "metadata": {},
   "source": [
    "#### KNN"
   ]
  },
  {
   "cell_type": "code",
   "execution_count": 50,
   "id": "c6792660-5444-488d-bd35-f9bcfac8ce13",
   "metadata": {},
   "outputs": [
    {
     "name": "stdout",
     "output_type": "stream",
     "text": [
      "Acurácia do Naive Bayes: 0.64\n",
      "Matriz de Confusão do Naive Bayes:\n",
      "[[   0    0    0    0    0    0    0   11    0    0    0    0    0    0\n",
      "     0    0    0    0    0    0]\n",
      " [   0    0    0    0    0    0    0    6    0    0    0    0    0    0\n",
      "     0    0    0    0    0    0]\n",
      " [   0    0    0    0    0    0    0  255    0    0    0    0    0    0\n",
      "     0    0    1    0    0    1]\n",
      " [   0    0    0    0    0    0    0   44    0    0    0    0    0    0\n",
      "     0    0    0    0    0    0]\n",
      " [   0    0    0    0    0    0    0   25    0    0    0    0    0    0\n",
      "     0    0    0    0    0    0]\n",
      " [   0    0    0    0    0    0    0   96    0    0    0    0    0    0\n",
      "     0    0    0    0    0    0]\n",
      " [   0    0    0    0    0    0    0    6    0    0    0    0    0    0\n",
      "     0    0    0    0    0    0]\n",
      " [   0    0    0    0    0    0    0 3015    2    0    0    0    0    0\n",
      "     0    0    2    0    0    3]\n",
      " [   0    0    0    0    0    0    0    6    0    0    0    0    0    0\n",
      "     0    0    0    0    0    0]\n",
      " [   0    0    0    0    0    0    0   54    0    0    0    0    0    0\n",
      "     0    0    0    0    0    0]\n",
      " [   0    0    0    0    0    0    0   33    0    0    0    0    0    0\n",
      "     0    0    0    0    0    0]\n",
      " [   0    0    0    0    0    0    0   44    0    0    0    0    0    0\n",
      "     0    0    0    0    0    1]\n",
      " [   0    0    0    0    0    0    0  360    0    0    0    0    0    0\n",
      "     0    0    0    0    0    0]\n",
      " [   0    0    0    0    0    0    0   24    0    0    0    0    0    0\n",
      "     0    0    0    0    0    1]\n",
      " [   0    0    0    0    0    0    0   11    0    0    0    0    0    0\n",
      "     0    0    0    0    0    0]\n",
      " [   0    0    0    0    0    0    0   90    0    0    0    0    0    0\n",
      "     0    0    0    0    0    0]\n",
      " [   0    0    0    0    0    0    0    5    0    0    0    0    0    0\n",
      "     0    0    0    0    0    0]\n",
      " [   0    0    0    0    0    0    0  585    0    0    0    0    0    0\n",
      "     0    0    0    0    0    0]\n",
      " [   0    0    0    0    0    0    0    4    0    0    0    0    0    0\n",
      "     0    0    0    0    0    0]\n",
      " [   0    0    0    0    0    0    0   26    0    0    0    0    0    0\n",
      "     0    0    0    0    0    0]]\n",
      "Relatório de Classificação do Naive Bayes:\n",
      "              precision    recall  f1-score   support\n",
      "\n",
      "          33       0.00      0.00      0.00        11\n",
      "          34       0.00      0.00      0.00         6\n",
      "          35       0.00      0.00      0.00       257\n",
      "          36       0.00      0.00      0.00        44\n",
      "          37       0.00      0.00      0.00        25\n",
      "          38       0.00      0.00      0.00        96\n",
      "          39       0.00      0.00      0.00         6\n",
      "          40       0.64      1.00      0.78      3022\n",
      "          41       0.00      0.00      0.00         6\n",
      "          42       0.00      0.00      0.00        54\n",
      "          43       0.00      0.00      0.00        33\n",
      "          44       0.00      0.00      0.00        45\n",
      "          45       0.00      0.00      0.00       360\n",
      "          46       0.00      0.00      0.00        25\n",
      "          47       0.00      0.00      0.00        11\n",
      "          48       0.00      0.00      0.00        90\n",
      "          49       0.00      0.00      0.00         5\n",
      "          50       0.00      0.00      0.00       585\n",
      "          51       0.00      0.00      0.00         4\n",
      "          52       0.00      0.00      0.00        26\n",
      "\n",
      "    accuracy                           0.64      4711\n",
      "   macro avg       0.03      0.05      0.04      4711\n",
      "weighted avg       0.41      0.64      0.50      4711\n",
      "\n"
     ]
    },
    {
     "name": "stderr",
     "output_type": "stream",
     "text": [
      "C:\\Python311\\Lib\\site-packages\\sklearn\\metrics\\_classification.py:1517: UndefinedMetricWarning: Precision is ill-defined and being set to 0.0 in labels with no predicted samples. Use `zero_division` parameter to control this behavior.\n",
      "  _warn_prf(average, modifier, f\"{metric.capitalize()} is\", len(result))\n",
      "C:\\Python311\\Lib\\site-packages\\sklearn\\metrics\\_classification.py:1517: UndefinedMetricWarning: Precision is ill-defined and being set to 0.0 in labels with no predicted samples. Use `zero_division` parameter to control this behavior.\n",
      "  _warn_prf(average, modifier, f\"{metric.capitalize()} is\", len(result))\n",
      "C:\\Python311\\Lib\\site-packages\\sklearn\\metrics\\_classification.py:1517: UndefinedMetricWarning: Precision is ill-defined and being set to 0.0 in labels with no predicted samples. Use `zero_division` parameter to control this behavior.\n",
      "  _warn_prf(average, modifier, f\"{metric.capitalize()} is\", len(result))\n"
     ]
    }
   ],
   "source": [
    "from sklearn.naive_bayes import GaussianNB\n",
    "\n",
    "# Criar e treinar o modelo Naive Bayes\n",
    "nb = GaussianNB()\n",
    "nb.fit(X_train, y_train)\n",
    "\n",
    "# Prever com o modelo treinado\n",
    "y_pred_nb = nb.predict(X_test)\n",
    "\n",
    "# Avaliar o modelo\n",
    "from sklearn.metrics import accuracy_score, confusion_matrix, classification_report\n",
    "\n",
    "accuracy_nb = accuracy_score(y_test, y_pred_nb)\n",
    "print(f\"Acurácia do Naive Bayes: {accuracy_nb:.2f}\")\n",
    "\n",
    "conf_matrix_nb = confusion_matrix(y_test, y_pred_nb)\n",
    "print(\"Matriz de Confusão do Naive Bayes:\")\n",
    "print(conf_matrix_nb)\n",
    "\n",
    "report_nb = classification_report(y_test, y_pred_nb)\n",
    "print(\"Relatório de Classificação do Naive Bayes:\")\n",
    "print(report_nb)\n"
   ]
  },
  {
   "cell_type": "markdown",
   "id": "0b0225d3-82eb-49db-8827-379e2c0085a4",
   "metadata": {},
   "source": [
    "#### Naive Bayes"
   ]
  },
  {
   "cell_type": "code",
   "execution_count": null,
   "id": "f203bc53-9d32-428f-ae39-1c702c07ead1",
   "metadata": {},
   "outputs": [],
   "source": [
    "from sklearn.tree import DecisionTreeClassifier\n",
    "\n",
    "# Criar e treinar o modelo de Árvore de Decisão\n",
    "dt = DecisionTreeClassifier(random_state=42)\n",
    "dt.fit(X_train, y_train)\n",
    "\n",
    "# Prever com o modelo treinado\n",
    "y_pred_dt = dt.predict(X_test)\n",
    "\n",
    "# Avaliar o modelo\n",
    "accuracy_dt = accuracy_score(y_test, y_pred_dt)\n",
    "print(f\"Acurácia da Árvore de Decisão: {accuracy_dt:.2f}\")\n",
    "\n",
    "conf_matrix_dt = confusion_matrix(y_test, y_pred_dt)\n",
    "print(\"Matriz de Confusão da Árvore de Decisão:\")\n",
    "print(conf_matrix_dt)\n",
    "\n",
    "report_dt = classification_report(y_test, y_pred_dt)\n",
    "print(\"Relatório de Classificação da Árvore de Decisão:\")\n",
    "print(report_dt)\n"
   ]
  },
  {
   "cell_type": "markdown",
   "id": "fe21b4af-8bc7-46a0-b64c-e122ad8d4613",
   "metadata": {},
   "source": [
    "#### Arvore de decisão"
   ]
  },
  {
   "cell_type": "code",
   "execution_count": 45,
   "id": "9e7662d8-3c88-475d-ad54-d0adcdad17b6",
   "metadata": {},
   "outputs": [
    {
     "name": "stdout",
     "output_type": "stream",
     "text": [
      "Acurácia: 0.60\n"
     ]
    }
   ],
   "source": [
    "from sklearn.metrics import accuracy_score\n",
    "\n",
    "accuracy = accuracy_score(y_test, y_pred)\n",
    "print(f\"Acurácia: {accuracy:.2f}\")"
   ]
  },
  {
   "cell_type": "code",
   "execution_count": 46,
   "id": "5cadb6a3-6d76-41b7-a119-91e40d480954",
   "metadata": {},
   "outputs": [
    {
     "name": "stdout",
     "output_type": "stream",
     "text": [
      "Matriz de Confusão:\n",
      "[[   0    0    0    0    0    0    0    9    0    0    0    0    1    0\n",
      "     0    0    0    1    0    0]\n",
      " [   0    0    1    0    0    0    0    4    0    0    0    0    0    0\n",
      "     0    0    0    1    0    0]\n",
      " [   0    0    4    2    0    1    0  243    0    0    0    0    2    0\n",
      "     0    0    0    5    0    0]\n",
      " [   0    0    1    0    0    0    0   40    0    0    0    0    0    0\n",
      "     0    0    0    3    0    0]\n",
      " [   0    0    1    0    0    0    0   23    0    0    0    0    0    0\n",
      "     0    0    0    1    0    0]\n",
      " [   0    0    2    0    0    1    0   91    0    0    0    0    0    0\n",
      "     0    0    0    2    0    0]\n",
      " [   0    0    0    0    0    0    0    5    0    0    0    0    1    0\n",
      "     0    0    0    0    0    0]\n",
      " [   3    1   91    5    4   16    0 2774    0    0    0    3   47    0\n",
      "     0    2    0   76    0    0]\n",
      " [   0    0    0    0    0    0    0    4    0    0    0    0    0    0\n",
      "     0    0    0    2    0    0]\n",
      " [   0    0    1    0    1    0    0   49    0    0    0    0    0    0\n",
      "     0    1    0    2    0    0]\n",
      " [   0    0    1    0    0    0    0   30    0    0    0    0    0    0\n",
      "     0    0    0    2    0    0]\n",
      " [   0    0    1    0    0    2    0   42    0    0    0    0    0    0\n",
      "     0    0    0    0    0    0]\n",
      " [   0    0    9    0    0    2    0  327    0    0    0    0    9    0\n",
      "     0    0    0   13    0    0]\n",
      " [   0    0    0    0    0    0    0   22    0    0    0    0    1    0\n",
      "     0    0    0    2    0    0]\n",
      " [   0    0    0    0    0    0    0   11    0    0    0    0    0    0\n",
      "     0    0    0    0    0    0]\n",
      " [   0    0    2    0    0    0    0   80    0    0    0    0    3    0\n",
      "     0    0    0    5    0    0]\n",
      " [   0    0    0    0    0    0    0    5    0    0    0    0    0    0\n",
      "     0    0    0    0    0    0]\n",
      " [   1    1   19    0    1    1    0  533    0    0    0    0    8    0\n",
      "     0    0    0   21    0    0]\n",
      " [   0    0    0    0    0    0    0    4    0    0    0    0    0    0\n",
      "     0    0    0    0    0    0]\n",
      " [   0    0    0    0    0    0    0   25    0    0    0    0    0    0\n",
      "     0    0    0    1    0    0]]\n"
     ]
    }
   ],
   "source": [
    "from sklearn.metrics import confusion_matrix\n",
    "\n",
    "conf_matrix = confusion_matrix(y_test, y_pred)\n",
    "print(\"Matriz de Confusão:\")\n",
    "print(conf_matrix)"
   ]
  },
  {
   "cell_type": "code",
   "execution_count": 47,
   "id": "f17c7621-ad41-434a-b7d6-cfaa10cf1e34",
   "metadata": {},
   "outputs": [
    {
     "name": "stdout",
     "output_type": "stream",
     "text": [
      "Relatório de Classificação:\n",
      "              precision    recall  f1-score   support\n",
      "\n",
      "          33       0.00      0.00      0.00        11\n",
      "          34       0.00      0.00      0.00         6\n",
      "          35       0.03      0.02      0.02       257\n",
      "          36       0.00      0.00      0.00        44\n",
      "          37       0.00      0.00      0.00        25\n",
      "          38       0.04      0.01      0.02        96\n",
      "          39       0.00      0.00      0.00         6\n",
      "          40       0.64      0.92      0.76      3022\n",
      "          41       0.00      0.00      0.00         6\n",
      "          42       0.00      0.00      0.00        54\n",
      "          43       0.00      0.00      0.00        33\n",
      "          44       0.00      0.00      0.00        45\n",
      "          45       0.12      0.03      0.04       360\n",
      "          46       0.00      0.00      0.00        25\n",
      "          47       0.00      0.00      0.00        11\n",
      "          48       0.00      0.00      0.00        90\n",
      "          49       0.00      0.00      0.00         5\n",
      "          50       0.15      0.04      0.06       585\n",
      "          51       0.00      0.00      0.00         4\n",
      "          52       0.00      0.00      0.00        26\n",
      "\n",
      "    accuracy                           0.60      4711\n",
      "   macro avg       0.05      0.05      0.04      4711\n",
      "weighted avg       0.44      0.60      0.50      4711\n",
      "\n"
     ]
    },
    {
     "name": "stderr",
     "output_type": "stream",
     "text": [
      "C:\\Python311\\Lib\\site-packages\\sklearn\\metrics\\_classification.py:1517: UndefinedMetricWarning: Precision is ill-defined and being set to 0.0 in labels with no predicted samples. Use `zero_division` parameter to control this behavior.\n",
      "  _warn_prf(average, modifier, f\"{metric.capitalize()} is\", len(result))\n",
      "C:\\Python311\\Lib\\site-packages\\sklearn\\metrics\\_classification.py:1517: UndefinedMetricWarning: Precision is ill-defined and being set to 0.0 in labels with no predicted samples. Use `zero_division` parameter to control this behavior.\n",
      "  _warn_prf(average, modifier, f\"{metric.capitalize()} is\", len(result))\n",
      "C:\\Python311\\Lib\\site-packages\\sklearn\\metrics\\_classification.py:1517: UndefinedMetricWarning: Precision is ill-defined and being set to 0.0 in labels with no predicted samples. Use `zero_division` parameter to control this behavior.\n",
      "  _warn_prf(average, modifier, f\"{metric.capitalize()} is\", len(result))\n"
     ]
    }
   ],
   "source": [
    "from sklearn.metrics import classification_report\n",
    "\n",
    "report = classification_report(y_test, y_pred)\n",
    "print(\"Relatório de Classificação:\")\n",
    "print(report)"
   ]
  },
  {
   "cell_type": "markdown",
   "id": "ba68a084-826a-4f6b-a228-2c0a39b5556c",
   "metadata": {},
   "source": [
    "#### Resultados"
   ]
  },
  {
   "cell_type": "code",
   "execution_count": null,
   "id": "bf809777-8af8-4f03-973d-e5e61a99fd53",
   "metadata": {},
   "outputs": [],
   "source": []
  }
 ],
 "metadata": {
  "kernelspec": {
   "display_name": "Python 3 (ipykernel)",
   "language": "python",
   "name": "python3"
  },
  "language_info": {
   "codemirror_mode": {
    "name": "ipython",
    "version": 3
   },
   "file_extension": ".py",
   "mimetype": "text/x-python",
   "name": "python",
   "nbconvert_exporter": "python",
   "pygments_lexer": "ipython3",
   "version": "3.11.5"
  }
 },
 "nbformat": 4,
 "nbformat_minor": 5
}
